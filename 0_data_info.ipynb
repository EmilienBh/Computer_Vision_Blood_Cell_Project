{
 "cells": [
  {
   "cell_type": "markdown",
   "id": "10ba2109",
   "metadata": {},
   "source": [
    "# Importation des données"
   ]
  },
  {
   "cell_type": "code",
   "execution_count": 57,
   "id": "70aba1d9",
   "metadata": {},
   "outputs": [],
   "source": [
    "import glob # Permet de rechercher tous les chemins ayant le motif spécifié\n",
    "import numpy as np\n",
    "import pandas as pd\n",
    "\n",
    "import cv2 # Open CV"
   ]
  },
  {
   "cell_type": "code",
   "execution_count": 58,
   "id": "fcd8fd03",
   "metadata": {},
   "outputs": [],
   "source": [
    "# On recherche tous les .jpg dans le dossiers\n",
    "images = glob.glob(pathname='PBC_dataset_normal_DIB/'+'*/*.jpg') "
   ]
  },
  {
   "cell_type": "markdown",
   "id": "649f4aa3",
   "metadata": {},
   "source": [
    "# Extraction d'informations des données"
   ]
  },
  {
   "cell_type": "code",
   "execution_count": 59,
   "id": "af9f4330",
   "metadata": {},
   "outputs": [
    {
     "name": "stdout",
     "output_type": "stream",
     "text": [
      "images: 17092\n"
     ]
    }
   ],
   "source": [
    "# On affiche le nombre d'images trouvées dans le dossier\n",
    "print(f\"images: {len(images)}\")"
   ]
  },
  {
   "cell_type": "code",
   "execution_count": 60,
   "id": "5dbeb03e",
   "metadata": {},
   "outputs": [
    {
     "data": {
      "text/html": [
       "<div>\n",
       "<style scoped>\n",
       "    .dataframe tbody tr th:only-of-type {\n",
       "        vertical-align: middle;\n",
       "    }\n",
       "\n",
       "    .dataframe tbody tr th {\n",
       "        vertical-align: top;\n",
       "    }\n",
       "\n",
       "    .dataframe thead th {\n",
       "        text-align: right;\n",
       "    }\n",
       "</style>\n",
       "<table border=\"1\" class=\"dataframe\">\n",
       "  <thead>\n",
       "    <tr style=\"text-align: right;\">\n",
       "      <th></th>\n",
       "      <th>path_image</th>\n",
       "    </tr>\n",
       "  </thead>\n",
       "  <tbody>\n",
       "    <tr>\n",
       "      <th>0</th>\n",
       "      <td>PBC_dataset_normal_DIB/basophil/BA_689200.jpg</td>\n",
       "    </tr>\n",
       "    <tr>\n",
       "      <th>1</th>\n",
       "      <td>PBC_dataset_normal_DIB/basophil/BA_883452.jpg</td>\n",
       "    </tr>\n",
       "    <tr>\n",
       "      <th>2</th>\n",
       "      <td>PBC_dataset_normal_DIB/basophil/BA_382161.jpg</td>\n",
       "    </tr>\n",
       "    <tr>\n",
       "      <th>3</th>\n",
       "      <td>PBC_dataset_normal_DIB/basophil/BA_175579.jpg</td>\n",
       "    </tr>\n",
       "    <tr>\n",
       "      <th>4</th>\n",
       "      <td>PBC_dataset_normal_DIB/basophil/BA_775722.jpg</td>\n",
       "    </tr>\n",
       "    <tr>\n",
       "      <th>...</th>\n",
       "      <td>...</td>\n",
       "    </tr>\n",
       "    <tr>\n",
       "      <th>17087</th>\n",
       "      <td>PBC_dataset_normal_DIB/platelet/PLATELET_49591...</td>\n",
       "    </tr>\n",
       "    <tr>\n",
       "      <th>17088</th>\n",
       "      <td>PBC_dataset_normal_DIB/platelet/PLATELET_89723...</td>\n",
       "    </tr>\n",
       "    <tr>\n",
       "      <th>17089</th>\n",
       "      <td>PBC_dataset_normal_DIB/platelet/PLATELET_75043...</td>\n",
       "    </tr>\n",
       "    <tr>\n",
       "      <th>17090</th>\n",
       "      <td>PBC_dataset_normal_DIB/platelet/PLATELET_81043...</td>\n",
       "    </tr>\n",
       "    <tr>\n",
       "      <th>17091</th>\n",
       "      <td>PBC_dataset_normal_DIB/platelet/PLATELET_49985...</td>\n",
       "    </tr>\n",
       "  </tbody>\n",
       "</table>\n",
       "<p>17092 rows × 1 columns</p>\n",
       "</div>"
      ],
      "text/plain": [
       "                                              path_image\n",
       "0          PBC_dataset_normal_DIB/basophil/BA_689200.jpg\n",
       "1          PBC_dataset_normal_DIB/basophil/BA_883452.jpg\n",
       "2          PBC_dataset_normal_DIB/basophil/BA_382161.jpg\n",
       "3          PBC_dataset_normal_DIB/basophil/BA_175579.jpg\n",
       "4          PBC_dataset_normal_DIB/basophil/BA_775722.jpg\n",
       "...                                                  ...\n",
       "17087  PBC_dataset_normal_DIB/platelet/PLATELET_49591...\n",
       "17088  PBC_dataset_normal_DIB/platelet/PLATELET_89723...\n",
       "17089  PBC_dataset_normal_DIB/platelet/PLATELET_75043...\n",
       "17090  PBC_dataset_normal_DIB/platelet/PLATELET_81043...\n",
       "17091  PBC_dataset_normal_DIB/platelet/PLATELET_49985...\n",
       "\n",
       "[17092 rows x 1 columns]"
      ]
     },
     "execution_count": 60,
     "metadata": {},
     "output_type": "execute_result"
    }
   ],
   "source": [
    "# On crée un dataframe en fonction de la liste \"images\"\n",
    "df_infos = pd.DataFrame({'path_image':images})\n",
    "df_infos"
   ]
  },
  {
   "cell_type": "markdown",
   "id": "5791ca1e",
   "metadata": {},
   "source": [
    "# Création de la variable \"category\""
   ]
  },
  {
   "cell_type": "code",
   "execution_count": 61,
   "id": "336afaac",
   "metadata": {},
   "outputs": [],
   "source": [
    "'''On crée une variable 'category' en fonction de la variable \"path_image\",\n",
    "et on recupère le nom du la catégorie en utilisant split'''\n",
    "df_infos['category'] = df_infos['path_image'].apply(lambda x: x.split('/')[1])"
   ]
  },
  {
   "cell_type": "markdown",
   "id": "ca424b16",
   "metadata": {},
   "source": [
    "# Création de la variable \"name\""
   ]
  },
  {
   "cell_type": "code",
   "execution_count": 67,
   "id": "66c0b740",
   "metadata": {},
   "outputs": [],
   "source": [
    "'''On crée une variable 'name' en fonction de la variable \"path_images_train_test\",\n",
    "et on recupère le nom d'image en utilisant split'''\n",
    "df_infos['name'] = df_infos['path_image'].apply(lambda x: x.split('/')[-1].split('.')[0])"
   ]
  },
  {
   "cell_type": "markdown",
   "id": "7b6d3385",
   "metadata": {},
   "source": [
    "# Création de la variable \"extension\""
   ]
  },
  {
   "cell_type": "code",
   "execution_count": 69,
   "id": "24ef0a2e",
   "metadata": {},
   "outputs": [],
   "source": [
    "'''On crée une variable 'extension' en fonction de la variable \"path_images_train_test\",\n",
    "et on recupère l'extention en utilisant split'''\n",
    "df_infos['extension'] = df_infos['path_image'].apply(lambda x: x.split('.')[-1])"
   ]
  },
  {
   "cell_type": "markdown",
   "id": "ae021ab5",
   "metadata": {},
   "source": [
    "# Récupération des information de dimension des données (width, height, size)"
   ]
  },
  {
   "cell_type": "code",
   "execution_count": 72,
   "id": "2a84aaba",
   "metadata": {},
   "outputs": [],
   "source": [
    "'''On crée 3 listes pour récuperer les différentes informations de \n",
    "la taille des images (hauteur, largeur et nombre de dimension)'''\n",
    "img_width, img_height, img_dim,  img_size = [],[],[],[]\n",
    "\n",
    "'''Pour chaque image dans 'images',\n",
    "on lit l'image puis on stocke les infos dans chaque liste respectives'''\n",
    "for image in images:\n",
    "    img = cv2.imread(image, cv2.IMREAD_COLOR)\n",
    "    img_width.append(img.shape[0])\n",
    "    img_height.append(img.shape[1])\n",
    "    img_dim.append(img.shape[2])\n",
    "    img_size.append(str(img.shape[0]) + ' x ' + str(img.shape[1]))\n",
    "    "
   ]
  },
  {
   "cell_type": "markdown",
   "id": "8da08bfd",
   "metadata": {},
   "source": [
    "# On regroupe respectivement les dataframes \"data_train_test\" et \"data_pred\" avec les informations de dimension"
   ]
  },
  {
   "cell_type": "code",
   "execution_count": 73,
   "id": "d2a7f200",
   "metadata": {},
   "outputs": [],
   "source": [
    "'''On regroupe le dataframe 'df_infos' avec un nouveau dataframe contenant les informations \n",
    "des listes créees précedement'''\n",
    "df_infos = pd.concat([df_infos,\n",
    "                            pd.DataFrame({'width':img_width, \n",
    "                                          'height':img_height, \n",
    "                                          'dim':img_dim,\n",
    "                                          'size':img_size})], axis=1)"
   ]
  },
  {
   "cell_type": "code",
   "execution_count": 70,
   "id": "dcb53847",
   "metadata": {},
   "outputs": [
    {
     "data": {
      "text/html": [
       "<div>\n",
       "<style scoped>\n",
       "    .dataframe tbody tr th:only-of-type {\n",
       "        vertical-align: middle;\n",
       "    }\n",
       "\n",
       "    .dataframe tbody tr th {\n",
       "        vertical-align: top;\n",
       "    }\n",
       "\n",
       "    .dataframe thead th {\n",
       "        text-align: right;\n",
       "    }\n",
       "</style>\n",
       "<table border=\"1\" class=\"dataframe\">\n",
       "  <thead>\n",
       "    <tr style=\"text-align: right;\">\n",
       "      <th></th>\n",
       "      <th>path_image</th>\n",
       "      <th>category</th>\n",
       "      <th>name</th>\n",
       "      <th>extension</th>\n",
       "    </tr>\n",
       "  </thead>\n",
       "  <tbody>\n",
       "    <tr>\n",
       "      <th>0</th>\n",
       "      <td>PBC_dataset_normal_DIB/basophil/BA_689200.jpg</td>\n",
       "      <td>basophil</td>\n",
       "      <td>BA_689200</td>\n",
       "      <td>jpg</td>\n",
       "    </tr>\n",
       "    <tr>\n",
       "      <th>1</th>\n",
       "      <td>PBC_dataset_normal_DIB/basophil/BA_883452.jpg</td>\n",
       "      <td>basophil</td>\n",
       "      <td>BA_883452</td>\n",
       "      <td>jpg</td>\n",
       "    </tr>\n",
       "    <tr>\n",
       "      <th>2</th>\n",
       "      <td>PBC_dataset_normal_DIB/basophil/BA_382161.jpg</td>\n",
       "      <td>basophil</td>\n",
       "      <td>BA_382161</td>\n",
       "      <td>jpg</td>\n",
       "    </tr>\n",
       "    <tr>\n",
       "      <th>3</th>\n",
       "      <td>PBC_dataset_normal_DIB/basophil/BA_175579.jpg</td>\n",
       "      <td>basophil</td>\n",
       "      <td>BA_175579</td>\n",
       "      <td>jpg</td>\n",
       "    </tr>\n",
       "    <tr>\n",
       "      <th>4</th>\n",
       "      <td>PBC_dataset_normal_DIB/basophil/BA_775722.jpg</td>\n",
       "      <td>basophil</td>\n",
       "      <td>BA_775722</td>\n",
       "      <td>jpg</td>\n",
       "    </tr>\n",
       "    <tr>\n",
       "      <th>...</th>\n",
       "      <td>...</td>\n",
       "      <td>...</td>\n",
       "      <td>...</td>\n",
       "      <td>...</td>\n",
       "    </tr>\n",
       "    <tr>\n",
       "      <th>17087</th>\n",
       "      <td>PBC_dataset_normal_DIB/platelet/PLATELET_49591...</td>\n",
       "      <td>platelet</td>\n",
       "      <td>PLATELET_495918</td>\n",
       "      <td>jpg</td>\n",
       "    </tr>\n",
       "    <tr>\n",
       "      <th>17088</th>\n",
       "      <td>PBC_dataset_normal_DIB/platelet/PLATELET_89723...</td>\n",
       "      <td>platelet</td>\n",
       "      <td>PLATELET_897238</td>\n",
       "      <td>jpg</td>\n",
       "    </tr>\n",
       "    <tr>\n",
       "      <th>17089</th>\n",
       "      <td>PBC_dataset_normal_DIB/platelet/PLATELET_75043...</td>\n",
       "      <td>platelet</td>\n",
       "      <td>PLATELET_750430</td>\n",
       "      <td>jpg</td>\n",
       "    </tr>\n",
       "    <tr>\n",
       "      <th>17090</th>\n",
       "      <td>PBC_dataset_normal_DIB/platelet/PLATELET_81043...</td>\n",
       "      <td>platelet</td>\n",
       "      <td>PLATELET_810431</td>\n",
       "      <td>jpg</td>\n",
       "    </tr>\n",
       "    <tr>\n",
       "      <th>17091</th>\n",
       "      <td>PBC_dataset_normal_DIB/platelet/PLATELET_49985...</td>\n",
       "      <td>platelet</td>\n",
       "      <td>PLATELET_499850</td>\n",
       "      <td>jpg</td>\n",
       "    </tr>\n",
       "  </tbody>\n",
       "</table>\n",
       "<p>17092 rows × 4 columns</p>\n",
       "</div>"
      ],
      "text/plain": [
       "                                              path_image  category  \\\n",
       "0          PBC_dataset_normal_DIB/basophil/BA_689200.jpg  basophil   \n",
       "1          PBC_dataset_normal_DIB/basophil/BA_883452.jpg  basophil   \n",
       "2          PBC_dataset_normal_DIB/basophil/BA_382161.jpg  basophil   \n",
       "3          PBC_dataset_normal_DIB/basophil/BA_175579.jpg  basophil   \n",
       "4          PBC_dataset_normal_DIB/basophil/BA_775722.jpg  basophil   \n",
       "...                                                  ...       ...   \n",
       "17087  PBC_dataset_normal_DIB/platelet/PLATELET_49591...  platelet   \n",
       "17088  PBC_dataset_normal_DIB/platelet/PLATELET_89723...  platelet   \n",
       "17089  PBC_dataset_normal_DIB/platelet/PLATELET_75043...  platelet   \n",
       "17090  PBC_dataset_normal_DIB/platelet/PLATELET_81043...  platelet   \n",
       "17091  PBC_dataset_normal_DIB/platelet/PLATELET_49985...  platelet   \n",
       "\n",
       "                  name extension  \n",
       "0            BA_689200       jpg  \n",
       "1            BA_883452       jpg  \n",
       "2            BA_382161       jpg  \n",
       "3            BA_175579       jpg  \n",
       "4            BA_775722       jpg  \n",
       "...                ...       ...  \n",
       "17087  PLATELET_495918       jpg  \n",
       "17088  PLATELET_897238       jpg  \n",
       "17089  PLATELET_750430       jpg  \n",
       "17090  PLATELET_810431       jpg  \n",
       "17091  PLATELET_499850       jpg  \n",
       "\n",
       "[17092 rows x 4 columns]"
      ]
     },
     "execution_count": 70,
     "metadata": {},
     "output_type": "execute_result"
    }
   ],
   "source": [
    "df_infos"
   ]
  },
  {
   "cell_type": "markdown",
   "id": "dab195c9",
   "metadata": {},
   "source": [
    "# SAUVEGARDE DES DONNEES"
   ]
  },
  {
   "cell_type": "code",
   "execution_count": 76,
   "id": "d1c33375",
   "metadata": {},
   "outputs": [],
   "source": [
    "df_infos.to_csv(\"df_infos.csv\", index=False)"
   ]
  }
 ],
 "metadata": {
  "colab": {
   "name": "01_transformation.ipynb",
   "provenance": []
  },
  "kernelspec": {
   "display_name": "Python 3 (ipykernel)",
   "language": "python",
   "name": "python3"
  },
  "language_info": {
   "codemirror_mode": {
    "name": "ipython",
    "version": 3
   },
   "file_extension": ".py",
   "mimetype": "text/x-python",
   "name": "python",
   "nbconvert_exporter": "python",
   "pygments_lexer": "ipython3",
   "version": "3.9.12"
  },
  "toc-autonumbering": true,
  "toc-showmarkdowntxt": false
 },
 "nbformat": 4,
 "nbformat_minor": 5
}
